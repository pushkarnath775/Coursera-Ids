{
 "cells": [
  {
   "cell_type": "code",
   "execution_count": null,
   "id": "96da298b",
   "metadata": {},
   "outputs": [],
   "source": [
    "DATA SCIENCE AND ITS ECOSYSTEM"
   ]
  },
  {
   "cell_type": "code",
   "execution_count": null,
   "id": "e2029f1f",
   "metadata": {},
   "outputs": [],
   "source": [
    "In this notebook, Data Science Tools and Ecosystem are summarized."
   ]
  },
  {
   "cell_type": "code",
   "execution_count": null,
   "id": "21f6f1df",
   "metadata": {},
   "outputs": [],
   "source": [
    "Some of the popular languages that Data Scientists use are:\n",
    "\n",
    "Python.\n",
    "R.\n",
    "SQL.\n",
    "Java.\n",
    "Julia.\n",
    "Scala.\n",
    "C/C++.\n",
    "JavaScript."
   ]
  },
  {
   "cell_type": "code",
   "execution_count": null,
   "id": "5a6b27e9",
   "metadata": {},
   "outputs": [],
   "source": [
    "Some of the commonly used libraries used by Data Scientists include:\n",
    "\n",
    "TensorFlow.\n",
    "NumPy.\n",
    "SciPy.\n",
    "Pandas.\n",
    "Matplotlib.\n",
    "Keras.\n",
    "SciKit-Learn.\n",
    "PyTorch.\n",
    "Scrapy.\n",
    "BeautifulSoup.\n",
    "LightGBM.\n",
    "ELI5.\n",
    "Theano.\n",
    "NuPIC.\n",
    "Ramp.\n",
    "Pipenv.\n",
    "Bob.\n",
    "PyBrain.\n",
    "Caffe2.\n",
    "Chainer."
   ]
  },
  {
   "cell_type": "code",
   "execution_count": null,
   "id": "beb7823c",
   "metadata": {},
   "outputs": [],
   "source": [
    "Data Science Tools\n",
    "SAS. It is one of those data science tools which are specifically designed for statistical operation\n",
    "Apache Spark\n",
    "BigML"
   ]
  },
  {
   "cell_type": "code",
   "execution_count": 1,
   "id": "5e69a51e",
   "metadata": {},
   "outputs": [
    {
     "data": {
      "text/plain": [
       "9"
      ]
     },
     "execution_count": 1,
     "metadata": {},
     "output_type": "execute_result"
    }
   ],
   "source": [
    "# Arithmetic operations\n",
    "code = compile(\"5 + 4\", \"<string>\", \"eval\")\n",
    "eval(code)\n",
    "# Result: 9"
   ]
  },
  {
   "cell_type": "code",
   "execution_count": 2,
   "id": "204d214a",
   "metadata": {},
   "outputs": [
    {
     "data": {
      "text/plain": [
       "24"
      ]
     },
     "execution_count": 2,
     "metadata": {},
     "output_type": "execute_result"
    }
   ],
   "source": [
    "code1 = compile(\"(5 + 7) * 2\", \"<string>\", \"eval\")\n",
    "eval(code1)\n",
    "# Result: 24"
   ]
  },
  {
   "cell_type": "code",
   "execution_count": 3,
   "id": "87c6c785",
   "metadata": {},
   "outputs": [
    {
     "data": {
      "text/plain": [
       "17"
      ]
     },
     "execution_count": 3,
     "metadata": {},
     "output_type": "execute_result"
    }
   ],
   "source": [
    "(3*4)+5\n",
    "# Result: 17"
   ]
  },
  {
   "cell_type": "code",
   "execution_count": 4,
   "id": "7c1ed7bd",
   "metadata": {},
   "outputs": [
    {
     "name": "stdout",
     "output_type": "stream",
     "text": [
      "0 days, 3.3333333333333335 hours, 0 mins. \n"
     ]
    }
   ],
   "source": [
    "days = 0\n",
    "hours = 0\n",
    "mins = 0\n",
    "\n",
    "time = 200\n",
    "#days = time / 1440\n",
    "leftover_minutes = time % 1440\n",
    "hours = leftover_minutes / 60\n",
    "#mins = time - (days*1440) - (hours*60)\n",
    "print(str(days) + \" days, \" + str(hours) + \" hours, \" + str(mins) +  \" mins. \")"
   ]
  },
  {
   "cell_type": "code",
   "execution_count": null,
   "id": "efc5f0bc",
   "metadata": {},
   "outputs": [],
   "source": [
    "Objectives\n",
    "\n",
    "This course teaches you about the popular tools in Data Science and how to use them. \n",
    "You will become familiar with the Data Scientist's tool kit which includes: Libraries & Packages, Data Sets, \n",
    "Machine Learning Models, Kernels, as well as the various Open source, commercial, Big Data and Cloud-based tools."
   ]
  }
 ],
 "metadata": {
  "kernelspec": {
   "display_name": "Python 3 (ipykernel)",
   "language": "python",
   "name": "python3"
  },
  "language_info": {
   "codemirror_mode": {
    "name": "ipython",
    "version": 3
   },
   "file_extension": ".py",
   "mimetype": "text/x-python",
   "name": "python",
   "nbconvert_exporter": "python",
   "pygments_lexer": "ipython3",
   "version": "3.9.13"
  }
 },
 "nbformat": 4,
 "nbformat_minor": 5
}
